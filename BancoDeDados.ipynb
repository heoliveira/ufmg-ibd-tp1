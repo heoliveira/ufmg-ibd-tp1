{
  "nbformat": 4,
  "nbformat_minor": 0,
  "metadata": {
    "colab": {
      "provenance": []
    },
    "kernelspec": {
      "name": "python3",
      "display_name": "Python 3"
    }
  },
  "cells": [
    {
      "cell_type": "markdown",
      "metadata": {
        "id": "nn9tBugBasEf"
      },
      "source": [
        "# 1. Banco de dado: Visão Geral\n",
        "\n",
        "Sistemas para o gerenciamento e controle de informações e dados são comumente denominados na área de computação como banco de dados.\n",
        "\n",
        "Existe uma grande variedade de modelos e linguagens para armazenar os dados e realizar esse gerenciamento destes.\n",
        "\n",
        "Em relação aos modelos de banco de dados, isto é, a forma como os dados são organizados têm-se:\n",
        "\n",
        "1. Modelo em Rede,\n",
        "2. Modelo Hierárquico,\n",
        "3. Modelo Relacional,\n",
        "4. Orientado a objetos e\n",
        "5. Objeto-Relacional.\n",
        "\n",
        "Para realizar a organização, inclusão, modificação ou exclusão de valores de um dado banco de dados faz-se necessário o uso de um sistema de gerenciamento de banco de dados (SGBD). Ou seja, um conjunto de softwares que atuam no gerenciamento dos dados em acordo com algum modelo de banco de dados.\n",
        "\n",
        "Além disso, é associada ao SGBD uma linguagem que possibilita a criação, atualização e consulta dos dados armazenados. Normalmente os comandos desta linguagem podem ser classificados em:\n",
        "\n",
        "* Comandos para a **definição de dados**: CREATE, DROP e ALTER TABLE;\n",
        "* Comandos para a **manipulação de dados**: UPDATE, SELECT, INSERT e DELETE;\n",
        "* Comandos para o **controle de dados**: GRANT e REVOKE, em SQL.\n",
        "\n",
        "Exemplos de SGBD são:\n",
        "\n",
        "* mSQL\n",
        "* MySQL\n",
        "* SQL-Server\n",
        "* TinySQL\n",
        "* MongoDB\n",
        "* PostgreSQL\n",
        "* Oracle (banco de dados)\n",
        "* CouchDB\n",
        "* Firebird\n",
        "\n",
        "Para efeito de aprendizagem será utilizada a linguagem **SQLITE 3** ao longo deste módulo.\n",
        "SQLite é uma biblioteca em linguagem C que implementa um banco de dados SQL embutido.\n",
        "\n",
        "É importante ressaltar que programas que usam a biblioteca SQLite podem ter acesso direto a um banco de dados SQL sem executar um processo SGBD separado.\n",
        "\n",
        "Ou seja, a biblioteca SQLite lê e escreve diretamente no arquivo de banco de dados armazenado em algum dispositivo (no nosso caso nossa área no google drive), tornando o aprendizado mais simples e palpável.\n",
        "\n",
        "O uso do SQLite é recomendado onde a simplicidade da administração, implementação e manutenção são mais importantes.\n",
        "\n",
        "Exemplos de situações nas quais se recomenda o uso do SQLite são:\n",
        "\n",
        "* Sites com menos de cem mil requisições por dia,\n",
        "* Dispositivos e sistemas embarcados,\n",
        "* Aplicações desktop,\n",
        "* Ferramentas estatísticas e de análise,\n",
        "* Aprendizado de banco de dados,\n",
        "* Implementação de novas extensões de SQL.\n",
        "\n",
        "O SQLite possui as seguintes características:\n",
        "\n",
        "* É Software Livre/domínio público e multi-plataforma,\n",
        "* É um mecanismo de armazenamento seguro com transações ACID,\n",
        "* Não necessita de instalação, configuração ou administração,\n",
        "* Implementa a maioria do SQL92 (padrão para banco de dados no modelo relacional),\n",
        "* Permite guardar o banco de dados em um único arquivo,\n",
        "* Suporta bases de dados abaixo de 2 terabytes,\n",
        "* Não tem dependências externas."
      ]
    },
    {
      "cell_type": "markdown",
      "metadata": {
        "id": "gD9HG_RnactZ"
      },
      "source": [
        "# 2. Criando uma Tabela em um banco de dados\n",
        "\n",
        "Um primeiro passo para se criar um banco de dados é armazenar um conjunto de informações seguindo a estrutura de uma tabela.\n",
        "\n",
        "Por exemplo, suponha que deseja-se armazenar uma série de informações acerca de produtos em um estoque.\n",
        "\n",
        "Uma forma simples de se armazenar as informações é agrupar os dados em uma tabela. Diz-se que a tabela armazena as informações associadas a uma entidade. Nesse exemplo, a tabela está associada a entidade **produtos**.\n",
        "\n",
        "Cada linha dessa tabela será relacionado a um produto específico e é denominada de um **registro**. Cada coluna da tabela irá fornecer dados acerca de cada **registro**.\n",
        "\n",
        "Para cada produto deseja-se armazenar três dados distintos quanto ao tipo do valor: **nome de um produto** (tipo **string**), **quantidade de produto** (tipo **int**), e **preço de uma unidade do produto** (tipo **float**).\n",
        "\n",
        "Ao se criar uma tabela em um banco de dados os seguintes passos devem ser dados:\n",
        "\n",
        "1. Criar uma conexão ao banco de dados associado a um arquivo com extensão **'.db'**;\n",
        "\n",
        "2. A partir da variável que estabelece a conexão com o banco de dados é possível criar um objeto cursor que irá permitir a execução de comandos no **formato SQL**;\n",
        "\n",
        "3. Para se criar uma tabela vazia, mas determinando-se quais serão suas colunas, pode-se empregar o comando **'create table'**. Além dele é interessante realizar uma verificação quanto a existência da tabela ou não no banco de dados com o comando **'if not exists'** seguido do nome da tabela que é **'store'** para realizar a ação. Por último, é necessário definir quais serão os tipos de variáveis a serem armazenados em cada coluna. Para o exemplo em questão: **TEXT**, **INTEGER** e **REAL**;\n",
        "\n",
        "4. Após a execução de comando com o objeto cursor, o comando **'commit'** aplicado na variável que realiza o controle da conexão irá efetivar as alterações realizadas;\n",
        "\n",
        "5. Por fim, é necessário sempre realizar a finalização da conexão com o banco de dados através do comando **'close'** aplicado no objeto de conexão com o banco de dados."
      ]
    },
    {
      "cell_type": "code",
      "metadata": {
        "id": "rl8fhygH9Hrb"
      },
      "source": [
        "import sqlite3\n",
        "\n",
        "conn = sqlite3.connect(\"lite1.db\")\n",
        "cur  = conn.cursor()\n",
        "cur.execute(\"CREATE TABLE IF NOT EXISTS store (item TEXT, quantity INTEGER, price REAL)\")\n",
        "conn.commit()\n",
        "conn.close()"
      ],
      "execution_count": null,
      "outputs": []
    },
    {
      "cell_type": "markdown",
      "metadata": {
        "id": "ZC9RyttA9SFw"
      },
      "source": [
        "# 3. Visualizando o arquivo de banco de dados criado\n",
        "\n",
        "Empregando o procedimento anteriormente descrito, foi criado um arquivo associado ao banco de dados em SQLITE3. Para verificar que esse arquivo está na sua área no Google drive é interessante realizar alguns comandos de sistema operacional:\n",
        "\n",
        "1. **!pwd**, onde: ! significa que têm-se um comando para o sistema operacional, e pwd significa print work directory, ou seja, impressão do diretório de trabalho ou que atualmente está em uso.\n",
        "\n",
        "2. **!ls**, onde: ls significa directory-listing, ou seja, listar os diretórios e pastas existentes."
      ]
    },
    {
      "cell_type": "code",
      "metadata": {
        "id": "N4DvrkrO9oD2",
        "colab": {
          "base_uri": "https://localhost:8080/"
        },
        "outputId": "f9fbefec-0680-42bb-a7ae-22b6131ba73c"
      },
      "source": [
        "!pwd\n",
        "!ls"
      ],
      "execution_count": null,
      "outputs": [
        {
          "output_type": "stream",
          "text": [
            "/content\n",
            "drive  lite1.db  sample_data\n"
          ],
          "name": "stdout"
        }
      ]
    },
    {
      "cell_type": "markdown",
      "metadata": {
        "id": "oBktiJjg-pAm"
      },
      "source": [
        "# 4. Inserindo dados na tabela\n",
        "\n",
        "Para inserir dados em uma tabela é necessário enviar um comando SQL através do objeto cursor. Esse comando é o de inserção de um novo registro na tabela, isto é, **INSERT INTO**, seguido do nome da tabela (**store**) e do comando da inserção de valores (**VALUES**) contidos na seguinte tupla: **('Wine Glass', 8, 10.5)**.\n",
        "\n",
        "Para efetivar a inserção de dados na tabela **store** é importante usar o comando **commit** (muitas vezes também fala-se em **'dar um commit'**) e fechar o arquivo do banco de dados."
      ]
    },
    {
      "cell_type": "code",
      "metadata": {
        "id": "NwI9mcec-vBP"
      },
      "source": [
        "conn = sqlite3.connect(\"lite1.db\")\n",
        "cur  = conn.cursor()\n",
        "cur.execute(\"INSERT INTO store VALUES ('Wine Glass',8,10.5)\")\n",
        "conn.commit()\n",
        "conn.close()"
      ],
      "execution_count": null,
      "outputs": []
    },
    {
      "cell_type": "markdown",
      "metadata": {
        "id": "gVeOMbVzFKbu"
      },
      "source": [
        "# 5. Visualizando dados da tabela\n",
        "\n",
        "Para exibir todos os registros contidos em uma tabela basta usar o comando para selecionar (**'SELECT'**) todas as colunas (**'*'**) da tabela com um dado nome (**store**). Depois é necessário armazenar os resultados obtidos em tuplas através do comando **fetchall** para o objeto cursor."
      ]
    },
    {
      "cell_type": "code",
      "metadata": {
        "colab": {
          "base_uri": "https://localhost:8080/"
        },
        "id": "hOy24kO4XyjZ",
        "outputId": "24de27f7-3bb5-4d3d-82e6-62b2cfbf3c36"
      },
      "source": [
        "conn = sqlite3.connect(\"lite1.db\")\n",
        "cur  = conn.cursor()\n",
        "cur.execute(\"SELECT * FROM store\")\n",
        "rows=cur.fetchall()\n",
        "conn.close()121\n",
        "print(rows)"
      ],
      "execution_count": null,
      "outputs": [
        {
          "output_type": "stream",
          "text": [
            "[('Wine Glass', 8, 10.5)]\n"
          ],
          "name": "stdout"
        }
      ]
    },
    {
      "cell_type": "markdown",
      "metadata": {
        "id": "-bwAvHYeYHjR"
      },
      "source": [
        "# 6. Transformando dados de SQL para pandas\n",
        "\n",
        "É possível tranformar os dados contidos em uma tabela do banco de dados para uma tabela de dados do **pandas**. Para tanto, usa-se o comando **read_sql_query** para transformar o resultado da seleção de todas as colunas de uma tabela (**SELECT * from store**) em um formato de tabela de dados (**DataFrame**)."
      ]
    },
    {
      "cell_type": "code",
      "metadata": {
        "colab": {
          "base_uri": "https://localhost:8080/",
          "height": 79
        },
        "id": "JDs7sez0Ym0N",
        "outputId": "1c605a49-9aab-47c2-b285-1adc252091e9"
      },
      "source": [
        "import pandas as pd\n",
        "\n",
        "# Read sqlite query results into a pandas DataFrame\n",
        "conn = sqlite3.connect(\"lite1.db\")\n",
        "df = pd.read_sql_query(\"SELECT * from store\", conn)\n",
        "\n",
        "conn.close()\n",
        "df"
      ],
      "execution_count": null,
      "outputs": [
        {
          "output_type": "execute_result",
          "data": {
            "text/html": [
              "<div>\n",
              "<style scoped>\n",
              "    .dataframe tbody tr th:only-of-type {\n",
              "        vertical-align: middle;\n",
              "    }\n",
              "\n",
              "    .dataframe tbody tr th {\n",
              "        vertical-align: top;\n",
              "    }\n",
              "\n",
              "    .dataframe thead th {\n",
              "        text-align: right;\n",
              "    }\n",
              "</style>\n",
              "<table border=\"1\" class=\"dataframe\">\n",
              "  <thead>\n",
              "    <tr style=\"text-align: right;\">\n",
              "      <th></th>\n",
              "      <th>item</th>\n",
              "      <th>quantity</th>\n",
              "      <th>price</th>\n",
              "    </tr>\n",
              "  </thead>\n",
              "  <tbody>\n",
              "    <tr>\n",
              "      <th>0</th>\n",
              "      <td>Wine Glass</td>\n",
              "      <td>8</td>\n",
              "      <td>10.5</td>\n",
              "    </tr>\n",
              "  </tbody>\n",
              "</table>\n",
              "</div>"
            ],
            "text/plain": [
              "         item  quantity  price\n",
              "0  Wine Glass         8   10.5"
            ]
          },
          "metadata": {
            "tags": []
          },
          "execution_count": 6
        }
      ]
    },
    {
      "cell_type": "markdown",
      "metadata": {
        "id": "tSaOZkNFZ0aJ"
      },
      "source": [
        "# 7. Inserindo dados no dataframe\n",
        "\n",
        "Após a criação de uma tabela de dados a partir de valores de uma tabela de um banco de dados, é possível acrescentar novos valores."
      ]
    },
    {
      "cell_type": "code",
      "metadata": {
        "colab": {
          "base_uri": "https://localhost:8080/",
          "height": 234
        },
        "id": "3OKQPkUIZzpF",
        "outputId": "8b95ed93-ecaa-4604-c4da-3eb581ca7855"
      },
      "source": [
        "products = [\"Porto Wine\", \"Lemon Water\", \"Whisky\", \"NotMilk\", \"Sake\", \"Vodka\"]\n",
        "quantities = [3, 4, 7, 11, 5, 2]\n",
        "prices = [40, 2, 60, 13, 15, 17]\n",
        "\n",
        "cont = 0\n",
        "for i,j,k in zip(products,quantities,prices):\n",
        "  df.loc[cont] = [i, j, k]\n",
        "  cont = cont+1\n",
        "\n",
        "df"
      ],
      "execution_count": null,
      "outputs": [
        {
          "output_type": "execute_result",
          "data": {
            "text/html": [
              "<div>\n",
              "<style scoped>\n",
              "    .dataframe tbody tr th:only-of-type {\n",
              "        vertical-align: middle;\n",
              "    }\n",
              "\n",
              "    .dataframe tbody tr th {\n",
              "        vertical-align: top;\n",
              "    }\n",
              "\n",
              "    .dataframe thead th {\n",
              "        text-align: right;\n",
              "    }\n",
              "</style>\n",
              "<table border=\"1\" class=\"dataframe\">\n",
              "  <thead>\n",
              "    <tr style=\"text-align: right;\">\n",
              "      <th></th>\n",
              "      <th>item</th>\n",
              "      <th>quantity</th>\n",
              "      <th>price</th>\n",
              "    </tr>\n",
              "  </thead>\n",
              "  <tbody>\n",
              "    <tr>\n",
              "      <th>0</th>\n",
              "      <td>Porto Wine</td>\n",
              "      <td>3</td>\n",
              "      <td>40.0</td>\n",
              "    </tr>\n",
              "    <tr>\n",
              "      <th>1</th>\n",
              "      <td>Lemon Water</td>\n",
              "      <td>4</td>\n",
              "      <td>2.0</td>\n",
              "    </tr>\n",
              "    <tr>\n",
              "      <th>2</th>\n",
              "      <td>Whisky</td>\n",
              "      <td>7</td>\n",
              "      <td>60.0</td>\n",
              "    </tr>\n",
              "    <tr>\n",
              "      <th>3</th>\n",
              "      <td>NotMilk</td>\n",
              "      <td>11</td>\n",
              "      <td>13.0</td>\n",
              "    </tr>\n",
              "    <tr>\n",
              "      <th>4</th>\n",
              "      <td>Sake</td>\n",
              "      <td>5</td>\n",
              "      <td>15.0</td>\n",
              "    </tr>\n",
              "    <tr>\n",
              "      <th>5</th>\n",
              "      <td>Vodka</td>\n",
              "      <td>2</td>\n",
              "      <td>17.0</td>\n",
              "    </tr>\n",
              "  </tbody>\n",
              "</table>\n",
              "</div>"
            ],
            "text/plain": [
              "          item  quantity  price\n",
              "0   Porto Wine         3   40.0\n",
              "1  Lemon Water         4    2.0\n",
              "2       Whisky         7   60.0\n",
              "3      NotMilk        11   13.0\n",
              "4         Sake         5   15.0\n",
              "5        Vodka         2   17.0"
            ]
          },
          "metadata": {
            "tags": []
          },
          "execution_count": 7
        }
      ]
    },
    {
      "cell_type": "markdown",
      "metadata": {
        "id": "XtlnK0IiaU0f"
      },
      "source": [
        "# 8. Convertendo uma tabela de dados em uma tabela de um banco de dados\n",
        "\n",
        "É possível converter os dados contidos em uma tabela de dados (**DataFrame**) em uma tabela de um banco de dados **SQLITE3**. Para tanto, basta utilizar o comando **to_sql** disponível para o tipo tabela de dados (**DataFrame**)."
      ]
    },
    {
      "cell_type": "code",
      "metadata": {
        "colab": {
          "base_uri": "https://localhost:8080/"
        },
        "id": "JynQo_jNaml4",
        "outputId": "cfae1d22-a9ca-4d57-c60c-9622de7deeca"
      },
      "source": [
        "conn = sqlite3.connect(\"lite1.db\")\n",
        "# Write the new DataFrame to a new SQLite table\n",
        "df.to_sql(\"store\", conn, index=False, if_exists=\"replace\")\n",
        "conn.close()\n",
        "\n",
        "# Openning database to select all register from a table\n",
        "# and view all values.\n",
        "conn = sqlite3.connect(\"lite1.db\")\n",
        "cur  = conn.cursor()\n",
        "cur.execute(\"SELECT * FROM store\")\n",
        "rows=cur.fetchall()\n",
        "conn.close()\n",
        "print(rows)"
      ],
      "execution_count": null,
      "outputs": [
        {
          "output_type": "stream",
          "text": [
            "[('Porto Wine', 3, 40.0), ('Lemon Water', 4, 2.0), ('Whisky', 7, 60.0), ('NotMilk', 11, 13.0), ('Sake', 5, 15.0), ('Vodka', 2, 17.0)]\n"
          ],
          "name": "stdout"
        }
      ]
    },
    {
      "cell_type": "markdown",
      "metadata": {
        "id": "5X0LxzVRa_96"
      },
      "source": [
        "# 9. Mini-Projeto: Organizando as operações no banco de dados\n",
        "\n",
        "Para facilitar a aplicação de certas operações como a adição, a visualização ou mesmo a eliminação de certos registros no banco de dados, pode-se organizar o código em termos de funções.\n",
        "\n",
        "A seguir será mostrado como criar as seguintes funções nas tabelas de uma base de dados:\n",
        "\n",
        "1. Criação de uma tabela e um banco de dados;\n",
        "2. Inserção de um registro em uma tabela;\n",
        "3. Visualização dos registros em uma tabela;\n",
        "4. Transformação em uma tabela de dados;\n",
        "5. Adição de valores através de uma tabela de dados;\n",
        "6. Transformação de tabela de dados para tabela de banco de dados;\n",
        "7. Eliminação de um registro;\n",
        "8. Eliminação de todos os registros;\n",
        "9. Eliminação da tabela de um banco de dados."
      ]
    },
    {
      "cell_type": "markdown",
      "metadata": {
        "id": "Txw0VLE9dNKt"
      },
      "source": [
        "# 10. Mini-projeto: Criando um banco de dados e uma tabela"
      ]
    },
    {
      "cell_type": "code",
      "metadata": {
        "id": "jgFSM1NHa6aL"
      },
      "source": [
        "import sqlite3\n",
        "\n",
        "def create_table(dbname):\n",
        "  conn = sqlite3.connect(dbname)\n",
        "  cur  = conn.cursor()\n",
        "  cur.execute(\"CREATE TABLE IF NOT EXISTS store (item TEXT, quantity INTEGER, price REAL)\")\n",
        "  conn.commit()\n",
        "  conn.close()"
      ],
      "execution_count": null,
      "outputs": []
    },
    {
      "cell_type": "markdown",
      "metadata": {
        "id": "s5aMdVN0dP0N"
      },
      "source": [
        "# 11. Mini-projeto: Inserção e visualização de dados em uma tabela"
      ]
    },
    {
      "cell_type": "code",
      "metadata": {
        "colab": {
          "base_uri": "https://localhost:8080/"
        },
        "id": "0mh4tJi7dGbL",
        "outputId": "7def0637-1241-4f1a-e540-1583898d2676"
      },
      "source": [
        "def insert(dbname,tabname,item, quantity, price):\n",
        "  conn = sqlite3.connect(dbname)\n",
        "  cur  = conn.cursor()\n",
        "  #cur.execute(\"INSERT INTO store VALUES ('Wine Glass',8,10.5)\")\n",
        "  command = \"INSERT INTO \"+tabname+\" VALUES (?,?,?)\"\n",
        "  cur.execute(command,(item,quantity,price))\n",
        "  conn.commit()\n",
        "  conn.close()\n",
        "\n",
        "def view(dbname,tabname):\n",
        "  conn = sqlite3.connect(dbname)\n",
        "  cur  = conn.cursor()\n",
        "  command = \"SELECT * FROM \"+tabname\n",
        "  cur.execute(command)\n",
        "  rows=cur.fetchall()\n",
        "  conn.close()\n",
        "  return rows\n",
        "\n",
        "create_table(\"lite2.db\")\n",
        "insert(\"lite2.db\",\"store\",'Wine Glass', 10, 5)\n",
        "print(view(\"lite2.db\",\"store\"))"
      ],
      "execution_count": null,
      "outputs": [
        {
          "output_type": "stream",
          "text": [
            "[('Wine Glass', 10, 5.0)]\n"
          ],
          "name": "stdout"
        }
      ]
    },
    {
      "cell_type": "code",
      "metadata": {
        "colab": {
          "base_uri": "https://localhost:8080/"
        },
        "id": "ZHsbo2w9bDCa",
        "outputId": "f8010272-0a04-4355-9a0b-881b6b5c777d"
      },
      "source": [
        "!pwd\n",
        "!ls"
      ],
      "execution_count": null,
      "outputs": [
        {
          "output_type": "stream",
          "text": [
            "/content\n",
            "drive  lite2.db  sample_data\n"
          ],
          "name": "stdout"
        }
      ]
    },
    {
      "cell_type": "markdown",
      "metadata": {
        "id": "YND8OMFwa3Mt"
      },
      "source": [
        "# 12. Mini-projeto: Transformando a tabela do banco de dados em um **data frame**"
      ]
    },
    {
      "cell_type": "code",
      "metadata": {
        "colab": {
          "base_uri": "https://localhost:8080/",
          "height": 79
        },
        "id": "qc4kiu4f4PDO",
        "outputId": "093095fd-4cdd-4416-e24b-d5db109816f1"
      },
      "source": [
        "import pandas as pd\n",
        "\n",
        "def tab2df(dbname,tabname):\n",
        "  # Read sqlite query results into a pandas DataFrame\n",
        "  conn = sqlite3.connect(dbname)\n",
        "  command = \"SELECT * from \"+tabname\n",
        "  df = pd.read_sql_query(command, conn)\n",
        "  conn.close()\n",
        "  return df\n",
        "\n",
        "df1 = tab2df(\"lite2.db\",\"store\")\n",
        "df1"
      ],
      "execution_count": null,
      "outputs": [
        {
          "output_type": "execute_result",
          "data": {
            "text/html": [
              "<div>\n",
              "<style scoped>\n",
              "    .dataframe tbody tr th:only-of-type {\n",
              "        vertical-align: middle;\n",
              "    }\n",
              "\n",
              "    .dataframe tbody tr th {\n",
              "        vertical-align: top;\n",
              "    }\n",
              "\n",
              "    .dataframe thead th {\n",
              "        text-align: right;\n",
              "    }\n",
              "</style>\n",
              "<table border=\"1\" class=\"dataframe\">\n",
              "  <thead>\n",
              "    <tr style=\"text-align: right;\">\n",
              "      <th></th>\n",
              "      <th>item</th>\n",
              "      <th>quantity</th>\n",
              "      <th>price</th>\n",
              "    </tr>\n",
              "  </thead>\n",
              "  <tbody>\n",
              "    <tr>\n",
              "      <th>0</th>\n",
              "      <td>Wine Glass</td>\n",
              "      <td>10</td>\n",
              "      <td>5.0</td>\n",
              "    </tr>\n",
              "  </tbody>\n",
              "</table>\n",
              "</div>"
            ],
            "text/plain": [
              "         item  quantity  price\n",
              "0  Wine Glass        10    5.0"
            ]
          },
          "metadata": {
            "tags": []
          },
          "execution_count": 9
        }
      ]
    },
    {
      "cell_type": "markdown",
      "metadata": {
        "id": "Ni4xPfwteAVD"
      },
      "source": [
        "# 13. Mini-projeto: Inserindo dados no **data frame**"
      ]
    },
    {
      "cell_type": "code",
      "metadata": {
        "colab": {
          "base_uri": "https://localhost:8080/",
          "height": 234
        },
        "id": "RMRaRR28Nqaf",
        "outputId": "32af0040-7971-4eaa-965f-d6b288eff8a3"
      },
      "source": [
        "def addData(df1):\n",
        "  products = [\"Porto Wine\", \"Lemon Water\", \"Whisky\", \"NotMilk\", \"Sake\", \"Vodka\"]\n",
        "  quantities = [3, 4, 7, 11, 5, 2]\n",
        "  prices = [40, 2, 60, 13, 15, 17]\n",
        "\n",
        "  cont = 0\n",
        "  for i,j,k in zip(products,quantities,prices):\n",
        "    df1.loc[cont] = [i, j, k]\n",
        "    cont = cont+1\n",
        "  return df1\n",
        "\n",
        "df1 = addData(df1)\n",
        "df1"
      ],
      "execution_count": null,
      "outputs": [
        {
          "output_type": "execute_result",
          "data": {
            "text/html": [
              "<div>\n",
              "<style scoped>\n",
              "    .dataframe tbody tr th:only-of-type {\n",
              "        vertical-align: middle;\n",
              "    }\n",
              "\n",
              "    .dataframe tbody tr th {\n",
              "        vertical-align: top;\n",
              "    }\n",
              "\n",
              "    .dataframe thead th {\n",
              "        text-align: right;\n",
              "    }\n",
              "</style>\n",
              "<table border=\"1\" class=\"dataframe\">\n",
              "  <thead>\n",
              "    <tr style=\"text-align: right;\">\n",
              "      <th></th>\n",
              "      <th>item</th>\n",
              "      <th>quantity</th>\n",
              "      <th>price</th>\n",
              "    </tr>\n",
              "  </thead>\n",
              "  <tbody>\n",
              "    <tr>\n",
              "      <th>0</th>\n",
              "      <td>Porto Wine</td>\n",
              "      <td>3</td>\n",
              "      <td>40.0</td>\n",
              "    </tr>\n",
              "    <tr>\n",
              "      <th>1</th>\n",
              "      <td>Lemon Water</td>\n",
              "      <td>4</td>\n",
              "      <td>2.0</td>\n",
              "    </tr>\n",
              "    <tr>\n",
              "      <th>2</th>\n",
              "      <td>Whisky</td>\n",
              "      <td>7</td>\n",
              "      <td>60.0</td>\n",
              "    </tr>\n",
              "    <tr>\n",
              "      <th>3</th>\n",
              "      <td>NotMilk</td>\n",
              "      <td>11</td>\n",
              "      <td>13.0</td>\n",
              "    </tr>\n",
              "    <tr>\n",
              "      <th>4</th>\n",
              "      <td>Sake</td>\n",
              "      <td>5</td>\n",
              "      <td>15.0</td>\n",
              "    </tr>\n",
              "    <tr>\n",
              "      <th>5</th>\n",
              "      <td>Vodka</td>\n",
              "      <td>2</td>\n",
              "      <td>17.0</td>\n",
              "    </tr>\n",
              "  </tbody>\n",
              "</table>\n",
              "</div>"
            ],
            "text/plain": [
              "          item  quantity  price\n",
              "0   Porto Wine         3   40.0\n",
              "1  Lemon Water         4    2.0\n",
              "2       Whisky         7   60.0\n",
              "3      NotMilk        11   13.0\n",
              "4         Sake         5   15.0\n",
              "5        Vodka         2   17.0"
            ]
          },
          "metadata": {
            "tags": []
          },
          "execution_count": 10
        }
      ]
    },
    {
      "cell_type": "markdown",
      "metadata": {
        "id": "Gba1XKkYeIt8"
      },
      "source": [
        "# 14. Mini-projeto: Atualizando a tabela do banco de dados com os dados do **data frame**"
      ]
    },
    {
      "cell_type": "code",
      "metadata": {
        "colab": {
          "base_uri": "https://localhost:8080/"
        },
        "id": "gb6luLgx41Wi",
        "outputId": "2c082dfd-f9ec-44e2-8e1e-e703f8c0f01e"
      },
      "source": [
        "def df2db(dbname,tabname):\n",
        "  conn = sqlite3.connect(dbname)\n",
        "  # Write the new DataFrame to a new SQLite table\n",
        "  df.to_sql(tabname, conn, index=False, if_exists=\"replace\")\n",
        "  conn.close()\n",
        "\n",
        "print(view(\"lite2.db\",\"store\"))\n",
        "df2db(\"lite2.db\",\"store\")\n",
        "print(view(\"lite2.db\",\"store\"))"
      ],
      "execution_count": null,
      "outputs": [
        {
          "output_type": "stream",
          "text": [
            "[('Wine Glass', 10, 5.0)]\n",
            "[('Wine Glass', 10, 5.0)]\n"
          ],
          "name": "stdout"
        }
      ]
    },
    {
      "cell_type": "markdown",
      "metadata": {
        "id": "rfJppwpoelrJ"
      },
      "source": [
        "# 15. Mini-projeto: Eliminando um registro da tabela do banco de dados"
      ]
    },
    {
      "cell_type": "code",
      "metadata": {
        "colab": {
          "base_uri": "https://localhost:8080/"
        },
        "id": "N7x8j8GQR2KB",
        "outputId": "46700802-83fa-4fef-aca8-2e7071493d91"
      },
      "source": [
        "def deleteItem(dbname,tabname,item):\n",
        "  conn = sqlite3.connect(dbname)\n",
        "  cur  = conn.cursor()\n",
        "  command = \"DELETE FROM \"+tabname+\" WHERE item=?\"\n",
        "  cur.execute(command,(item,))\n",
        "  conn.commit()\n",
        "  conn.close()1\n",
        "\n",
        "print(view(\"lite2.db\",\"store\"))\n",
        "deleteItem(\"lite2.db\",\"store\",\"Porto Wine\")\n",
        "print(view(\"lite2.db\",\"store\"))"
      ],
      "execution_count": null,
      "outputs": [
        {
          "output_type": "stream",
          "text": [
            "[('Wine Glass', 10, 5.0)]\n",
            "[('Wine Glass', 10, 5.0)]\n"
          ],
          "name": "stdout"
        }
      ]
    },
    {
      "cell_type": "markdown",
      "metadata": {
        "id": "vTWvK5vapHb8"
      },
      "source": [
        "# 16. Mini-projeto: Eliminando todos os itens de uma tabela do banco de dados"
      ]
    },
    {
      "cell_type": "code",
      "metadata": {
        "colab": {
          "base_uri": "https://localhost:8080/"
        },
        "id": "C83kSFk0EJJS",
        "outputId": "67c377b5-f8a8-4bea-b492-e1afed700a10"
      },
      "source": [
        "def deleteAllItems(dbname,tabname):\n",
        "  conn = sqlite3.connect(dbname)\n",
        "  cur  = conn.cursor()\n",
        "  command = \"DELETE FROM \"+tabname+\";\"\n",
        "  cur.execute(command,)\n",
        "  conn.commit()\n",
        "  conn.close()\n",
        "\n",
        "print(view(\"lite2.db\",\"store\"))\n",
        "deleteAllItems(\"lite2.db\",\"store\")\n",
        "print(view(\"lite2.db\",\"store\"))"
      ],
      "execution_count": null,
      "outputs": [
        {
          "output_type": "stream",
          "text": [
            "[('Wine Glass', 10, 5.0)]\n",
            "[]\n"
          ],
          "name": "stdout"
        }
      ]
    },
    {
      "cell_type": "markdown",
      "metadata": {
        "id": "4CWncAGmpRjN"
      },
      "source": [
        "# 17. Mini-projeto: Eliminando uma tabela do banco de dados"
      ]
    },
    {
      "cell_type": "code",
      "metadata": {
        "colab": {
          "base_uri": "https://localhost:8080/"
        },
        "id": "575utSdMIaZF",
        "outputId": "874839f6-5283-4d5d-c2c6-ee0b57a97304"
      },
      "source": [
        "def deleteTable(dbname,tabname):\n",
        "  conn = sqlite3.connect(dbname)\n",
        "  cur  = conn.cursor()\n",
        "  command = \"DROP TABLE IF EXISTS \"+tabname\n",
        "  cur.execute(command)\n",
        "  conn.commit()\n",
        "  conn.close()\n",
        "\n",
        "\n",
        "def showAll(dbname):\n",
        "  conn = sqlite3.connect(dbname)\n",
        "  cur  = conn.cursor()\n",
        "  cur.execute('SELECT name from sqlite_master where type= \"table\"')\n",
        "  print(cur.fetchall())\n",
        "\n",
        "showAll(\"lite2.db\")\n",
        "deleteTable(\"lite2.db\",\"store\")\n",
        "showAll(\"lite2.db\")"
      ],
      "execution_count": null,
      "outputs": [
        {
          "output_type": "stream",
          "text": [
            "[('store',)]\n",
            "[]\n"
          ],
          "name": "stdout"
        }
      ]
    },
    {
      "cell_type": "markdown",
      "metadata": {
        "id": "Jyn6e7XGsT8T"
      },
      "source": [
        "https://www.sqlitetutorial.net/sqlite-python/create-tables/\n",
        "\n",
        "https://colab.research.google.com/github/lucasmoratof/sql-projects/blob/master/Introduction_to_SQL_sub_queries.ipynb\n",
        "\n",
        "https://www.w3schools.com/sql/sql_select.asp\n",
        "\n",
        "https://docs.microsoft.com/pt-br/sql/t-sql/queries/select-examples-transact-sql?view=sql-server-ver15\n"
      ]
    }
  ]
}